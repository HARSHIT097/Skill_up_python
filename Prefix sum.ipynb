{
 "cells": [
  {
   "cell_type": "markdown",
   "id": "ff55e6e2-3306-4535-9c3c-29d3d39ade1e",
   "metadata": {},
   "source": [
    "# Prefix Sum Technique"
   ]
  },
  {
   "cell_type": "code",
   "execution_count": 1,
   "id": "5aba6f4a-d3d0-4d03-8c7d-e2210605ff7e",
   "metadata": {},
   "outputs": [],
   "source": [
    "### To answer range queries effienciently"
   ]
  },
  {
   "cell_type": "markdown",
   "id": "d64da1e2-3c59-4ef0-8544-6fe82aaf71a7",
   "metadata": {},
   "source": [
    "Idea: To maintain a cummulative sum of the array elements such that \n",
    "\n",
    "    index stores the sum of all elements\n",
    "    from the beginning of the array up to that index."
   ]
  },
  {
   "cell_type": "markdown",
   "id": "f7ecfd23-cc00-4f92-aa11-ca00facb8b59",
   "metadata": {},
   "source": [
    "### Why Use Prefix Sum?\n",
    "\n",
    "            Efficient Range Queries:\n",
    "                Quickly compute the sum of any subarray.\n",
    "            Optimization: \n",
    "                Reduce repetitive computation in problems involving sums.\n",
    "            Applications:\n",
    "\n",
    "                Range sum queries\n",
    "                Equilibrium index\n",
    "                Subarray sum problems\n",
    "                Sliding window problems"
   ]
  },
  {
   "cell_type": "code",
   "execution_count": 2,
   "id": "fe411e6a-47c4-4797-b093-a26fa08604e2",
   "metadata": {},
   "outputs": [],
   "source": [
    "# Build prefix sum array\n",
    "def build_prefix_sum(arr):\n",
    "    n = len(arr)\n",
    "    prefix_sum = [0] * n\n",
    "    print(\"Prefix sum array initialisazion: \", prefix_sum)\n",
    "    prefix_sum[0] = arr[0]\n",
    "    for i in range(1, n):\n",
    "        prefix_sum[i] = prefix_sum[i - 1] + arr[i]\n",
    "    return prefix_sum"
   ]
  },
  {
   "cell_type": "code",
   "execution_count": 3,
   "id": "80284477-764d-430d-8f71-837847ba8bc4",
   "metadata": {},
   "outputs": [],
   "source": [
    "# Range sum query using prefix sum\n",
    "def range_sum(prefix_sum, left, right):\n",
    "    if left == 0:\n",
    "        return prefix_sum[right]\n",
    "    return prefix_sum[right] - prefix_sum[left - 1]"
   ]
  },
  {
   "cell_type": "markdown",
   "id": "6765ab1b-d814-49db-88a8-77523b12eb05",
   "metadata": {},
   "source": [
    "## 1. Simple Array Range Sum Query\n",
    "Given an array arr = [1, 2, 3, 4, 5], find the sum of elements in the range [1, 3].\n",
    "        \n",
    "        Solution:\n",
    "        \n",
    "        Prefix Sum: [1, 3, 6, 10, 15]\n",
    "        Query: prefix_sum[3] - prefix_sum[0] = 10 - 1 = 9"
   ]
  },
  {
   "cell_type": "code",
   "execution_count": 6,
   "id": "68f2c22c-7986-420e-8366-8e10f9b33a5b",
   "metadata": {},
   "outputs": [
    {
     "name": "stdout",
     "output_type": "stream",
     "text": [
      "The array is:  [1, 2, 3, 4, 5]\n",
      "Prefix sum array initialisazion:  [0, 0, 0, 0, 0]\n",
      "Prefix Sum: [1, 3, 6, 10, 15]\n",
      "Sum of elements from index 1 to 3: 9\n"
     ]
    }
   ],
   "source": [
    "# Example usage\n",
    "arr = [1, 2, 3, 4, 5]\n",
    "print(\"The array is: \", arr)\n",
    "prefix_sum = build_prefix_sum(arr)\n",
    "print(\"Prefix Sum:\", prefix_sum)\n",
    "print(\"Sum of elements from index 1 to 3:\", range_sum(prefix_sum, 1, 3))  # Output: 9"
   ]
  },
  {
   "cell_type": "markdown",
   "id": "cb82464d-f503-4274-8d4a-cc8409672447",
   "metadata": {},
   "source": [
    "## 2. Finding Subarray with a Given Sum\n",
    "Find if a subarray with a given sum k exists in arr = [1, 2, 3, 7, 5].\n",
    "\n",
    "Approach: Use prefix sum and a hash map to track previously seen sums."
   ]
  },
  {
   "cell_type": "code",
   "execution_count": 8,
   "id": "21ce3e3c-9fc3-4788-9d43-20f59c67d5a3",
   "metadata": {},
   "outputs": [],
   "source": [
    "def subarray_with_sum(arr, k):\n",
    "    prefix_sum = 0\n",
    "    seen = {}\n",
    "    for i, num in enumerate(arr):\n",
    "        prefix_sum += num\n",
    "        if prefix_sum == k:\n",
    "            return (0, i)\n",
    "        if (prefix_sum - k) in seen:\n",
    "            return (seen[prefix_sum - k] + 1, i)\n",
    "        seen[prefix_sum] = i\n",
    "    return None\n"
   ]
  },
  {
   "cell_type": "code",
   "execution_count": 9,
   "id": "e03c58d9-a5b9-4bfb-bca1-09c92969b517",
   "metadata": {},
   "outputs": [
    {
     "name": "stdout",
     "output_type": "stream",
     "text": [
      "Subarray with sum 12 : (1, 3)\n"
     ]
    }
   ],
   "source": [
    "# Example usage\n",
    "arr = [1, 2, 3, 7, 5]\n",
    "k = 12\n",
    "print(\"Subarray with sum\", k, \":\", subarray_with_sum(arr, k))  # Output: (2, 4)"
   ]
  },
  {
   "cell_type": "markdown",
   "id": "5a00e4c4-2471-4385-bc63-96ea72108814",
   "metadata": {},
   "source": [
    "## 3. Count Subarrays with Sum Equal to k\n",
    "Count the number of subarrays whose sum equals k in arr = [1, 1, 1]."
   ]
  },
  {
   "cell_type": "code",
   "execution_count": 10,
   "id": "3ad07bc3-e8bd-4a9d-b492-79bf31d8eee1",
   "metadata": {},
   "outputs": [],
   "source": [
    "def count_subarrays_with_sum(arr, k):\n",
    "    prefix_sum = 0\n",
    "    count = 0\n",
    "    seen = {0: 1}\n",
    "    for num in arr:\n",
    "        prefix_sum += num\n",
    "        count += seen.get(prefix_sum - k, 0)\n",
    "        seen[prefix_sum] = seen.get(prefix_sum, 0) + 1\n",
    "    return count\n"
   ]
  },
  {
   "cell_type": "code",
   "execution_count": 11,
   "id": "e6ae9f6d-14e8-4aa1-ba02-63d81b57fe17",
   "metadata": {},
   "outputs": [
    {
     "name": "stdout",
     "output_type": "stream",
     "text": [
      "Count of subarrays with sum 2 : 2\n"
     ]
    }
   ],
   "source": [
    "# Example usage\n",
    "arr = [1, 1, 1]\n",
    "k = 2\n",
    "print(\"Count of subarrays with sum\", k, \":\", count_subarrays_with_sum(arr, k))  # Output: 2\n"
   ]
  },
  {
   "cell_type": "code",
   "execution_count": null,
   "id": "c3a81425-7fe3-40c8-9944-62780e7e5004",
   "metadata": {},
   "outputs": [],
   "source": []
  }
 ],
 "metadata": {
  "kernelspec": {
   "display_name": "Python 3 (ipykernel)",
   "language": "python",
   "name": "python3"
  },
  "language_info": {
   "codemirror_mode": {
    "name": "ipython",
    "version": 3
   },
   "file_extension": ".py",
   "mimetype": "text/x-python",
   "name": "python",
   "nbconvert_exporter": "python",
   "pygments_lexer": "ipython3",
   "version": "3.12.1"
  }
 },
 "nbformat": 4,
 "nbformat_minor": 5
}
